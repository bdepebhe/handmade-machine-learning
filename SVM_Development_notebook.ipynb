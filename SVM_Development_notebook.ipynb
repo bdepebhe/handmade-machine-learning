{
 "cells": [
  {
   "cell_type": "markdown",
   "metadata": {},
   "source": [
    "# General lib imports"
   ]
  },
  {
   "cell_type": "code",
   "execution_count": 1,
   "metadata": {
    "ExecuteTime": {
     "end_time": "2021-02-04T09:18:03.486644Z",
     "start_time": "2021-02-04T09:17:59.944949Z"
    }
   },
   "outputs": [],
   "source": [
    "import pandas as pd\n",
    "import numpy as np\n",
    "from progressbar.bar import ProgressBar\n",
    "import seaborn as sns"
   ]
  },
  {
   "cell_type": "markdown",
   "metadata": {},
   "source": [
    "# Code"
   ]
  },
  {
   "cell_type": "markdown",
   "metadata": {},
   "source": [
    "## Functions"
   ]
  },
  {
   "cell_type": "markdown",
   "metadata": {},
   "source": [
    "### compute_softmargin_hinge"
   ]
  },
  {
   "cell_type": "markdown",
   "metadata": {},
   "source": [
    "$$\\Bigg[\\frac{1}{n} \\sum _{i=1}^{n}\\max\\ (0, 1-y_{i}(\\mathbf{w}^{T}x_{i}-b))\\Bigg] + \\lambda \\lVert \\mathbf{w} \\lVert^{2} $$"
   ]
  },
  {
   "cell_type": "code",
   "execution_count": 301,
   "metadata": {
    "ExecuteTime": {
     "end_time": "2021-02-05T13:06:12.984791Z",
     "start_time": "2021-02-05T13:06:12.974275Z"
    }
   },
   "outputs": [],
   "source": [
    "def compute_softmargin_hinge(x, y, params, lambdaa):\n",
    "    #converting DataFrames, lists or lists of lists to nparray\n",
    "    y = (np.array(y)-0.5)*2 #converting 0/1 class into -1/1 \n",
    "    x = np.array(x)\n",
    "    params=np.array(params)\n",
    "    w = params[:-1]\n",
    "    b = params[-1]\n",
    "\n",
    "    #raise errors for unconsistant inputs\n",
    "    if len(y.shape) > 2:\n",
    "        raise ValueError('y vector dimension too high. Must be 2 max')\n",
    "        \n",
    "    if y.shape[0] != x.shape[0]:\n",
    "        raise ValueError(f'unconsistent vectors dimensions during scoring: \\\n",
    "y.shape= {y.shape} and x.shape= {x.shape}')\n",
    "        \n",
    "    if x.shape[1] != w.size:\n",
    "        raise ValueError(f'unconsistent vectors dimensions during scoring: \\\n",
    "x.shape= {x.shape} and w.size= {w.size}')\n",
    "    #print('x',x.shape)\n",
    "    #print('y',y.shape)\n",
    "    #print('w',w.shape)\n",
    "    #print('b',b)\n",
    "        \n",
    "    return np.maximum(0, 1-(np.dot(x,w)-b)*y).mean()\\\n",
    "                      + lambdaa * np.dot(w.T,w)"
   ]
  },
  {
   "cell_type": "code",
   "execution_count": 296,
   "metadata": {
    "ExecuteTime": {
     "end_time": "2021-02-05T13:05:36.834565Z",
     "start_time": "2021-02-05T13:05:36.823141Z"
    }
   },
   "outputs": [],
   "source": [
    "def compute_softmargin_hinge_derivative(x, y, params, lambdaa):\n",
    "    #converting DataFrames, lists or lists of lists to nparray\n",
    "    y = (np.array(y)-0.5)*2\n",
    "    x = np.array(x)\n",
    "    params=np.array(params)\n",
    "    w = params[:-1]\n",
    "    b = params[-1]\n",
    "\n",
    "    #raise errors for unconsistant inputs\n",
    "    if len(y.shape) > 2:\n",
    "        raise ValueError('y vect  or dimension too high. Must be 2 max')\n",
    "        \n",
    "    if y.shape[0] != x.shape[0]:\n",
    "        raise ValueError(f'unconsistent vectors dimensions during loss_derivative: \\\n",
    "y.shape= {y.shape} and x.shape= {x.shape}')\n",
    "        \n",
    "    if x.shape[1] != w.size:\n",
    "        raise ValueError(f'unconsistent vectors dimensions during loss_derivative: \\\n",
    "x.shape= {x.shape} and w.size= {w.size}')\n",
    "    \n",
    "    dw2_dparams=lambdaa * np.concatenate((2*w, np.zeros((1,))),axis=0)\n",
    "\n",
    "    \n",
    "    positives=(np.expand_dims((1-y*(np.dot(x,w)-b)>0),axis=1))\n",
    "    \n",
    "    dsoft_dw=(positives*(-np.expand_dims(y,axis=1)*x)).mean(axis=0)\n",
    "\n",
    "    dsoft_db=(positives*np.expand_dims(y,axis=1)).mean(axis=0)\n",
    "\n",
    "    dsoft_dparams = np.concatenate((dsoft_dw, dsoft_db),axis=0)\n",
    "    \n",
    "    return dsoft_dparams + dw2_dparams"
   ]
  },
  {
   "cell_type": "code",
   "execution_count": 260,
   "metadata": {
    "ExecuteTime": {
     "end_time": "2021-02-05T10:15:54.076551Z",
     "start_time": "2021-02-05T10:15:54.065115Z"
    }
   },
   "outputs": [
    {
     "data": {
      "text/plain": [
       "array([-0.04,  0.06,  0.  ])"
      ]
     },
     "execution_count": 260,
     "metadata": {},
     "output_type": "execute_result"
    }
   ],
   "source": [
    "compute_softmargin_hinge_derivative(xx,yy,np.array(list(ww)+[bb]),0.01)"
   ]
  },
  {
   "cell_type": "markdown",
   "metadata": {},
   "source": [
    "### compute_metric"
   ]
  },
  {
   "cell_type": "code",
   "execution_count": 7,
   "metadata": {
    "ExecuteTime": {
     "end_time": "2021-02-01T14:25:38.556208Z",
     "start_time": "2021-02-01T14:25:38.529737Z"
    }
   },
   "outputs": [],
   "source": [
    "def compute_metric (y, y_pred, metric, loss_derivative=False):\n",
    "    '''Defining loss and metric functions\n",
    "     Takes nparrays, lists or a single values\n",
    "     \n",
    "     ## IF loss_derivative==False:\n",
    "         output: always scalar\n",
    "         \n",
    "     ## IF loss_derivative==True: (True will be ignored for non-loss metrics)\n",
    "         Computes the partial derivative of the loss function\n",
    "           with respect to each component of each sample\n",
    "         output: 2Darray\n",
    "            n_samples * 1 for binary_crossentropy or single output regression\n",
    "            n_samples * n_class for categorical_crossentropy\n",
    "            n_samples * n_features for multifeatures regression)\n",
    "    '''\n",
    "        \n",
    "    #converting DataFrames, lists or lists of lists to nparray\n",
    "    y = np.array(y)\n",
    "    y_pred = np.array(y_pred)\n",
    "        \n",
    "    #deal with 1D inputs to forge a n_samples * 1 2D-array\n",
    "    if len(y.shape) == 1:\n",
    "        y = np.expand_dims(y, axis = 1)\n",
    "    if len(y_pred.shape) == 1:\n",
    "        y_pred = np.expand_dims(y_pred, axis = 1)\n",
    "            \n",
    "    #raise errors for unconsistant inputs\n",
    "    if len(y.shape) > 2:\n",
    "        raise ValueError('y vector dimension too high. Must be 2 max')\n",
    "    if len(y_pred.shape) > 2:\n",
    "        raise ValueError('y_pred vector dimension too high. Must be 2 max')\n",
    "    if y.shape != y_pred.shape:\n",
    "        raise ValueError(f'unconsistent vectors dimensions during scoring: \\\n",
    "y.shape= {y.shape} and y_pred.shape= {y_pred.shape}')\n",
    "        \n",
    "    #compute loss funtions (or derivatives if loss_derivative==True)\n",
    "    if metric == 'mse':\n",
    "        if loss_derivative == False:\n",
    "            return np.square(y-y_pred).mean()\n",
    "        else:\n",
    "            return 1 / y.size * 2 * (y_pred - y)\n",
    "        \n",
    "    elif metric == 'mae':\n",
    "        if loss_derivative == False:\n",
    "            return np.abs(y-y_pred).mean()\n",
    "        else:\n",
    "            return 1 / y.size * (y_pred - y) / np.abs(y - y_pred)\n",
    "        \n",
    "    elif metric == 'categorical_crossentropy':\n",
    "        if loss_derivative == False:\n",
    "            return -1 / y.shape[0] * ((y * np.log(y_pred)).sum())\n",
    "        else:\n",
    "            return -1 / y.shape[0] * (y / y_pred)\n",
    "        \n",
    "    elif metric == 'binary_crossentropy':\n",
    "        if y.shape[1]>1:\n",
    "            raise ValueError('y vector dimension too high. \\\n",
    "Must be 1 max for binary_crossentropy')\n",
    "        if loss_derivative == False:\n",
    "            return -(y*np.log(y_pred)+(1-y)*np.log(1-y_pred)).mean()\n",
    "        else:\n",
    "            return -1 / y.size * (y / y_pred - (1-y) / (1-y_pred))\n",
    "        \n",
    "    # compute other metrics functions\n",
    "    ## TODO ## accuracy, f1-score, recall, etc..\n",
    "    else:\n",
    "        raise ValueError(f'Unknown metric {metric}. Supported types: \\\n",
    "mse, mae, categorical_crossentropy, binary_crossentropy')"
   ]
  },
  {
   "cell_type": "markdown",
   "metadata": {},
   "source": [
    "## functions for display"
   ]
  },
  {
   "cell_type": "code",
   "execution_count": 264,
   "metadata": {
    "ExecuteTime": {
     "end_time": "2021-02-05T11:03:39.232030Z",
     "start_time": "2021-02-05T11:03:39.204811Z"
    }
   },
   "outputs": [],
   "source": [
    "def compute_line_points(a,b,c):\n",
    "    '''computes 2 points far away from origin on the line defined by equation \n",
    "    a*x + b*y +c = 0\n",
    "    returns : [x1,x2], [y1,y2]'''\n",
    "    delta=4 * a**2 * b**2 -4 * (a**2 + b**2) * (c**2 - 10000 * b**2)\n",
    "    xroot1= (-2*a*c +np.sqrt(delta)) / 2 /(a**2 + b**2)\n",
    "    xroot2= (-2*a*c -np.sqrt(delta)) / 2 /(a**2 + b**2)\n",
    "    yroot1=(-c-a*xroot1)/b\n",
    "    yroot2=(-c-a*xroot2)/b\n",
    "    return [xroot1,xroot2], [yroot1,yroot2]"
   ]
  },
  {
   "cell_type": "code",
   "execution_count": 391,
   "metadata": {
    "ExecuteTime": {
     "end_time": "2021-02-05T15:00:05.213068Z",
     "start_time": "2021-02-05T15:00:05.181656Z"
    }
   },
   "outputs": [],
   "source": [
    "def plot_2D_svc(x,y,params):\n",
    "    '''only in 2D : x.shape=(n_samples,2)\n",
    "    y.shape=(n_samples,)'''\n",
    "    if x.shape[1]!=2:\n",
    "        raise ValueError(f'x.shape={x.shape}. Expected (n_sample,2)')\n",
    "        \n",
    "    df=pd.DataFrame({'x1':x[:,0],'x2':x[:,1],'y':y})\n",
    "    \n",
    "    xline, yline = compute_line_points(params[0],params[1],-params[2])\n",
    "    xlineup, ylineup = compute_line_points(params[0],params[1],-params[2]-1)\n",
    "    xlinedown, ylinedown = compute_line_points(params[0],params[1],-params[2]+1)\n",
    "\n",
    "    g=sns.scatterplot(data=df,x='x1',y='x2',hue='y')\n",
    "    sns.lineplot(x=xlinedown, y=ylinedown)\n",
    "    sns.lineplot(x=xlineup, y=ylineup)\n",
    "    sns.lineplot(x=xline, y=yline)\n",
    "    g.set(xlim=(df.x1.min()-2,df.x1.max()+2))\n",
    "    g.set(ylim=(df.x2.min()-2,df.x2.max()+2))"
   ]
  },
  {
   "cell_type": "markdown",
   "metadata": {},
   "source": [
    "## Optimizers"
   ]
  },
  {
   "cell_type": "code",
   "execution_count": 392,
   "metadata": {
    "ExecuteTime": {
     "end_time": "2021-02-05T15:00:07.086620Z",
     "start_time": "2021-02-05T15:00:07.073153Z"
    }
   },
   "outputs": [],
   "source": [
    "class adam_optimizer():\n",
    "    def __init__(self, params, alpha_init=0.001, beta_1=0.9,\n",
    "             beta_2=0.999, epsilon=1e-8):\n",
    "        \n",
    "        self.alpha_init=alpha_init\n",
    "        self.beta_1=beta_1\n",
    "        self.beta_2=beta_2\n",
    "        self.epsilon=epsilon\n",
    "    \n",
    "        self.t=0\n",
    "        #initializing first and second momentum\n",
    "        self.m = np.zeros_like(params)\n",
    "        self.v = self.m.copy()\n",
    "        \n",
    "    def get_update(self, gradient):\n",
    "        self.t+=1\n",
    "        alpha=self.alpha_init*np.sqrt(1-self.beta_2**self.t)/(1-self.beta_1**self.t)\n",
    "                    \n",
    "        # updating 1st and 2nd momenta\n",
    "        self.m=[self.beta_1 * m + (1-self.beta_1) * grad\\\n",
    "                   for m, grad in zip(self.m, gradient)]\n",
    "        self.v=[self.beta_2 * v + (1-self.beta_2) * grad**2\\\n",
    "                   for v, grad in zip(self.v, gradient)]\n",
    "        \n",
    "        #computing the updates\n",
    "        update = [- alpha * m / (np.sqrt(v) + self.epsilon)\\\n",
    "                                  for m, v in zip( self.m, self.v)]\n",
    "        return update"
   ]
  },
  {
   "cell_type": "markdown",
   "metadata": {},
   "source": [
    "## Model class"
   ]
  },
  {
   "cell_type": "code",
   "execution_count": 438,
   "metadata": {
    "ExecuteTime": {
     "end_time": "2021-02-05T15:18:32.611462Z",
     "start_time": "2021-02-05T15:18:32.528791Z"
    }
   },
   "outputs": [],
   "source": [
    "class svc ():\n",
    "    '''\n",
    "    hand-made version support vector classifier with softmargin\n",
    "    so far, the possibilities are :\n",
    "    \n",
    "        - param initializers : 'uniform'\n",
    "    \n",
    "        - loss functions : 'softmargin_hinge'\n",
    "            \n",
    "        - solver : SGD without momentum 'sgd', 'adam'\n",
    "    '''\n",
    "    def __init__ (self, input_dim=0, param_initializer='random_uniform'):\n",
    "        self.input_dim=input_dim\n",
    "        self.params=np.random.uniform(size=(input_dim + 1,))\n",
    "        self.loss_history=[]\n",
    "\n",
    "    def set_input_dim (self, input_dim):\n",
    "        self.input_dim = input_dim\n",
    "        self.params=np.random.uniform(size=(input_dim + 1,))\n",
    "        \n",
    "    def set_loss (self, loss_type='softmargin_hinge'):\n",
    "        self.loss_type = loss_type\n",
    "        \n",
    "        \n",
    "    def predict (self, X):\n",
    "        '''input X : list, list of lists, np array, pd DataFrame\n",
    "               axis 0 = samples\n",
    "               axis 1 = features\n",
    "\n",
    "           output = y_pred: 1D np-array\n",
    "               axis 0 = samples\n",
    "               values : 0/1\n",
    "           '''\n",
    "        #converting DataFrames, lists or lists of lists to nparray\n",
    "        X = np.array(X)\n",
    "        \n",
    "        #deal with 1D inputs to forge a 1 * n_features 2D-array\n",
    "        if len(X.shape) == 1:\n",
    "            X = np.expand_dims(X, axis = 0)\n",
    "            \n",
    "        #raise errors for unconsistant inputs\n",
    "        if len(X.shape) > 2:\n",
    "            raise ValueError('X vector dimension too high. Must be 2 max')\n",
    "        if X.shape[1] != self.input_dim:\n",
    "            raise ValueError(f'Unconsistent number of features. \\\n",
    "The network input_dim is {self.input_dim}')\n",
    "            \n",
    "        #compute the prediction\n",
    "\n",
    "        return X\n",
    "    \n",
    "    def score (self, X, y, metric):\n",
    "        '''use predict method, then compute_metric function'''\n",
    "        compute_softmargin_hinge(x, y, params, lambdaa)\n",
    "        y_pred=self.predict(X)\n",
    "        return compute_metric(y, y_pred, metric)\n",
    "            \n",
    "    \n",
    "    def fit (self, X, y, loss_type=None, lambdaa=0.01, learning_rate=0.01,\n",
    "             batch_size=1, n_epochs=10, verbose=1,\n",
    "             optimizer_type='sgd',\n",
    "             alpha_init=0.001, beta_1=0.9,\n",
    "             beta_2=0.999, epsilon=1e-8):\n",
    "        '''input X : 2D array or pd DataFrame\n",
    "                axis 0 = samples\n",
    "                axis 1 = features\n",
    "        '''\n",
    "        if loss_type:\n",
    "            self.loss_type=loss_type\n",
    "        \n",
    "        if optimizer_type == 'adam':\n",
    "            optimizer = adam_optimizer (self.params, \n",
    "                                        alpha_init=alpha_init, beta_1=beta_1,\n",
    "                                        beta_2=beta_2, epsilon=epsilon)\n",
    "        \n",
    "        X = np.array(X)\n",
    "        y = np.array(y)\n",
    "        n_samples = X.shape[0]\n",
    "        n_minibatches_per_epoch = int((n_samples-1) / batch_size) + 1\n",
    "        \n",
    "        loss=compute_softmargin_hinge(X, y, self.params, lambdaa)\n",
    "        \n",
    "        if self.loss_history == []:\n",
    "            self.loss_history.append(loss)\n",
    "        if verbose>0:\n",
    "            print(f'initial loss: {loss}')\n",
    "            print(f'initial margin: {2/np.sqrt(np.square(self.params[:-1]).sum())}')\n",
    "        \n",
    "        for epoch_index in range (n_epochs):\n",
    "            if verbose>1:\n",
    "                print(f'beginning epoch n°{epoch_index + 1}')\n",
    "                \n",
    "            #progress_batches = ProgressBar()\n",
    "            #for mini_batch_index in progress_batches(range(n_minibatches_per_epoch)):\n",
    "            for mini_batch_index in range(n_minibatches_per_epoch):\n",
    "                gradient = compute_softmargin_hinge_derivative(X[mini_batch_index * batch_size :\\\n",
    "                                                                 (mini_batch_index +1) * batch_size],\n",
    "                                                               y[mini_batch_index * batch_size :\\\n",
    "                                                                 (mini_batch_index +1) * batch_size],\n",
    "                                                               self.params,\n",
    "                                                               lambdaa)\n",
    "\n",
    "                if optimizer_type == 'sgd':\n",
    "                    #compute the update directly\n",
    "                    params_update = -learning_rate * gradient\n",
    "               \n",
    "                elif optimizer_type == 'adam':\n",
    "                    #compute the update with the optimizer\n",
    "                    params_update = optimizer.get_update(gradient)\n",
    "                \n",
    "                else:\n",
    "                    raise ValueError(f'unsupported optimizer type {optimizer}') \n",
    "                    \n",
    "                # updating weights and bias\n",
    "                self.params = self.params + params_update\n",
    "            \n",
    "            loss=compute_softmargin_hinge(X, y, self.params, lambdaa)\n",
    "            self.loss_history.append(loss)\n",
    "            if verbose>1:\n",
    "                \n",
    "                print(f'end of epoch n°{epoch_index + 1}. loss: {loss}')\n",
    "                \n",
    "        if verbose==1:\n",
    "            print(f'final loss: {loss}')\n",
    "            print(f'final margin: {2/np.sqrt(np.square(self.params[:-1]).sum())}')\n",
    "            \n",
    "\n",
    "    def plot_loss_history(self):\n",
    "        '''Make a simple plot loss versus epochs'''\n",
    "        graph=sns.lineplot(x=range(len(self.loss_history)),y=self.loss_history)\n",
    "        graph.set(xlabel=\"epochs\", ylabel = \"loss\")\n",
    "        \n",
    "    def plot_2D_svc(self,x,y):\n",
    "        '''only in 2D : x.shape=(n_samples,2)\n",
    "        y.shape=(n_samples,)'''\n",
    "        params=self.params\n",
    "        x=np.array(x)\n",
    "        y=np.array(y)\n",
    "        \n",
    "        if x.shape[1]!=2:\n",
    "            raise ValueError(f'x.shape={x.shape}. Expected (n_sample,2)')\n",
    "        if params.size!=3:\n",
    "            raise ValueError(f'input_dim={params.size-1}. Expected 2')\n",
    "\n",
    "        df=pd.DataFrame({'x1':x[:,0],'x2':x[:,1],'y':y})\n",
    "\n",
    "        xline, yline = compute_line_points(params[0],params[1],-params[2])\n",
    "        xlineup, ylineup = compute_line_points(params[0],params[1],-params[2]-1)\n",
    "        xlinedown, ylinedown = compute_line_points(params[0],params[1],-params[2]+1)\n",
    "\n",
    "        g=sns.scatterplot(data=df,x='x1',y='x2',hue='y')\n",
    "        sns.lineplot(x=xlinedown, y=ylinedown)\n",
    "        sns.lineplot(x=xlineup, y=ylineup)\n",
    "        sns.lineplot(x=xline, y=yline)\n",
    "        g.set(xlim=(df.x1.min()-2,df.x1.max()+2))\n",
    "        g.set(ylim=(df.x2.min()-2,df.x2.max()+2))"
   ]
  },
  {
   "cell_type": "code",
   "execution_count": 402,
   "metadata": {
    "ExecuteTime": {
     "end_time": "2021-02-05T15:01:26.881293Z",
     "start_time": "2021-02-05T15:01:26.861166Z"
    }
   },
   "outputs": [
    {
     "data": {
      "text/html": [
       "<div>\n",
       "<style scoped>\n",
       "    .dataframe tbody tr th:only-of-type {\n",
       "        vertical-align: middle;\n",
       "    }\n",
       "\n",
       "    .dataframe tbody tr th {\n",
       "        vertical-align: top;\n",
       "    }\n",
       "\n",
       "    .dataframe thead th {\n",
       "        text-align: right;\n",
       "    }\n",
       "</style>\n",
       "<table border=\"1\" class=\"dataframe\">\n",
       "  <thead>\n",
       "    <tr style=\"text-align: right;\">\n",
       "      <th></th>\n",
       "      <th>x1</th>\n",
       "      <th>x2</th>\n",
       "      <th>y</th>\n",
       "    </tr>\n",
       "  </thead>\n",
       "  <tbody>\n",
       "    <tr>\n",
       "      <th>0</th>\n",
       "      <td>2</td>\n",
       "      <td>3</td>\n",
       "      <td>1</td>\n",
       "    </tr>\n",
       "    <tr>\n",
       "      <th>1</th>\n",
       "      <td>3</td>\n",
       "      <td>4</td>\n",
       "      <td>1</td>\n",
       "    </tr>\n",
       "    <tr>\n",
       "      <th>2</th>\n",
       "      <td>5</td>\n",
       "      <td>5</td>\n",
       "      <td>1</td>\n",
       "    </tr>\n",
       "    <tr>\n",
       "      <th>3</th>\n",
       "      <td>5</td>\n",
       "      <td>2</td>\n",
       "      <td>0</td>\n",
       "    </tr>\n",
       "    <tr>\n",
       "      <th>4</th>\n",
       "      <td>6</td>\n",
       "      <td>1</td>\n",
       "      <td>0</td>\n",
       "    </tr>\n",
       "    <tr>\n",
       "      <th>5</th>\n",
       "      <td>7</td>\n",
       "      <td>3</td>\n",
       "      <td>0</td>\n",
       "    </tr>\n",
       "  </tbody>\n",
       "</table>\n",
       "</div>"
      ],
      "text/plain": [
       "   x1  x2  y\n",
       "0   2   3  1\n",
       "1   3   4  1\n",
       "2   5   5  1\n",
       "3   5   2  0\n",
       "4   6   1  0\n",
       "5   7   3  0"
      ]
     },
     "execution_count": 402,
     "metadata": {},
     "output_type": "execute_result"
    }
   ],
   "source": [
    "df=pd.DataFrame({'x1':[2,3,5,5,6,7],'x2':[3,4,5,2,1,3],'y':[1,1,1,0,0,0]})\n",
    "df"
   ]
  },
  {
   "cell_type": "code",
   "execution_count": 447,
   "metadata": {
    "ExecuteTime": {
     "end_time": "2021-02-05T15:19:47.123520Z",
     "start_time": "2021-02-05T15:19:46.464979Z"
    }
   },
   "outputs": [
    {
     "name": "stdout",
     "output_type": "stream",
     "text": [
      "margin :  0.9180432172146267\n"
     ]
    },
    {
     "data": {
      "image/png": "[encoded data removed]",
      "text/plain": [
       "<Figure size 432x288 with 1 Axes>"
      ]
     },
     "metadata": {
      "needs_background": "light"
     },
     "output_type": "display_data"
    }
   ],
   "source": [
    "model=svc(input_dim=2)\n",
    "model.plot_2D_svc(df[['x1','x2']],df.y)\n",
    "print('margin : ',np.sqrt(model.params[0]**2+model.params[1]**2))"
   ]
  },
  {
   "cell_type": "code",
   "execution_count": 458,
   "metadata": {
    "ExecuteTime": {
     "end_time": "2021-02-05T15:20:23.419066Z",
     "start_time": "2021-02-05T15:20:22.653142Z"
    }
   },
   "outputs": [
    {
     "name": "stdout",
     "output_type": "stream",
     "text": [
      "initial loss: 0.03345234248414416\n",
      "initial margin: 2.447606996393506\n",
      "final loss: 0.032241509591204864\n",
      "final margin: 2.490619097804034\n"
     ]
    },
    {
     "data": {
      "image/png": "[encoded data removed]",
      "text/plain": [
       "<Figure size 432x288 with 1 Axes>"
      ]
     },
     "metadata": {
      "needs_background": "light"
     },
     "output_type": "display_data"
    }
   ],
   "source": [
    "model.fit(df[['x1','x2']],df.y,lambdaa=0.05,n_epochs=1000,batch_size=6,optimizer_type='adam')\n",
    "model.plot_2D_svc(df[['x1','x2']],df.y)"
   ]
  },
  {
   "cell_type": "code",
   "execution_count": 462,
   "metadata": {
    "ExecuteTime": {
     "end_time": "2021-02-05T15:42:32.984808Z",
     "start_time": "2021-02-05T15:42:32.963397Z"
    }
   },
   "outputs": [
    {
     "data": {
      "text/plain": [
       "array([1, 1, 1, 0, 0, 0])"
      ]
     },
     "execution_count": 462,
     "metadata": {},
     "output_type": "execute_result"
    }
   ],
   "source": [
    "from sklearn.svm import LinearSVC\n",
    "skmodel=LinearSVC(loss='hinge')\n",
    "skmodel.fit(df[['x1','x2']],df.y)\n",
    "skmodel.predict(df[['x1','x2']])"
   ]
  },
  {
   "cell_type": "markdown",
   "metadata": {},
   "source": [
    "# Tests"
   ]
  },
  {
   "cell_type": "code",
   "execution_count": 306,
   "metadata": {
    "ExecuteTime": {
     "end_time": "2021-02-05T13:06:21.128112Z",
     "start_time": "2021-02-05T13:06:21.122733Z"
    }
   },
   "outputs": [],
   "source": [
    "if __name__ == \"__main__\":\n",
    "    #test all the features of the handmade_nn class\n",
    "    from unittest import TestCase"
   ]
  },
  {
   "cell_type": "markdown",
   "metadata": {},
   "source": [
    "## compute_activation function tests"
   ]
  },
  {
   "cell_type": "code",
   "execution_count": 8,
   "metadata": {
    "ExecuteTime": {
     "end_time": "2021-01-29T14:31:02.049444Z",
     "start_time": "2021-01-29T14:31:02.024572Z"
    }
   },
   "outputs": [],
   "source": [
    "    #---------------------------------------------------------------------------\n",
    "    ## tests for function compute_activation\n",
    "    #---------------------------------------------------------------------------\n",
    "\n",
    "    assert (compute_activation(np.array([[-1,0], [0, 1], [1, 3]]),\n",
    "                               'relu') ==\\\n",
    "            np.array([[0,0], [0, 1], [1, 3]]))\\\n",
    "            .all(), \"uncorrect relu function behaviour\"\n",
    "\n",
    "    #---------------------------------------------------------------------------\n",
    "    assert (compute_activation(np.array([[-1,0], [0, 1], [1, 3]]),\n",
    "                               'linear') ==\\\n",
    "            np.array([[-1,0], [0, 1], [1, 3]]))\\\n",
    "            .all(), \"uncorrect linear function behaviour\"\n",
    "\n",
    "    #---------------------------------------------------------------------------\n",
    "    assert (np.round(compute_activation(np.array([[-1,0], [0, 1], [1, 3]]),\n",
    "                                        'sigmoid'), decimals= 8) ==\\\n",
    "            np.array([[0.26894142, 0.5       ],\n",
    "                      [0.5       , 0.73105858],\n",
    "                      [0.73105858, 0.95257413]]))\\\n",
    "            .all(), \"uncorrect sigmoid function behaviour\"\n",
    "\n",
    "    #---------------------------------------------------------------------------\n",
    "    assert (np.round(compute_activation(np.array([[-1,0], [0, 1], [1, 3]]),\n",
    "                                        'tanh'), decimals= 8) ==\\\n",
    "            np.array([[-0.76159416,  0.        ],\n",
    "                      [ 0.        ,  0.76159416],\n",
    "                      [ 0.76159416,  0.99505475]]))\\\n",
    "            .all(), \"uncorrect tanh function behaviour\"\n",
    "\n",
    "    #---------------------------------------------------------------------------\n",
    "    assert (np.round(compute_activation(np.array([[-1,0], [0, 1], [1, 3]]),\n",
    "                                        'softmax'), decimals= 8) ==\\\n",
    "            np.array([[0.09003057, 0.04201007],\n",
    "                      [0.24472847, 0.1141952 ],\n",
    "                      [0.66524096, 0.84379473]]))\\\n",
    "            .all(), \"uncorrect softmax function behaviour\"\n",
    "\n",
    "    #---------------------------------------------------------------------------\n",
    "    test=TestCase()\n",
    "    with test.assertRaises(ValueError) as context:\n",
    "        compute_activation(0,'typo_error')\n",
    "    assert 'Unknown activation type' in str(context.exception),\\\n",
    "        \"no or wrong Exception raised when inputing an unknown activation_type\\\n",
    "         while calling compute_activation\""
   ]
  },
  {
   "cell_type": "markdown",
   "metadata": {},
   "source": [
    "## compute_activation_derivative function tests"
   ]
  },
  {
   "cell_type": "code",
   "execution_count": 9,
   "metadata": {
    "ExecuteTime": {
     "end_time": "2021-01-29T14:31:02.438157Z",
     "start_time": "2021-01-29T14:31:02.422389Z"
    }
   },
   "outputs": [],
   "source": [
    "    #---------------------------------------------------------------------------\n",
    "    ## tests for function compute_activation_derivative\n",
    "    #---------------------------------------------------------------------------\n",
    "\n",
    "    assert (compute_activation_derivative(np.array([[0,0], [0, 1], [1, 3]]),\n",
    "                                          'relu') ==\\\n",
    "            np.array([[0,0], [0, 1], [1, 1]]))\\\n",
    "            .all(), \"uncorrect relu function behaviour\"\n",
    "\n",
    "    #---------------------------------------------------------------------------\n",
    "    assert (compute_activation_derivative(np.array([[-1,0], [0, 1], [1, 3]]),\n",
    "                                          'linear') ==\\\n",
    "            np.array([[1,1], [1, 1], [1, 1]]))\\\n",
    "            .all(), \"uncorrect linear function behaviour\"\n",
    "\n",
    "    #---------------------------------------------------------------------------\n",
    "    assert (np.round(compute_activation_derivative\\\n",
    "                     (np.array([[0.26894142, 0.5       ],\n",
    "                                [0.5       , 0.73105858],\n",
    "                                [0.73105858, 0.95257413]]),\n",
    "                      'sigmoid'), decimals= 8) ==\\\n",
    "            np.array([[0.19661193, 0.25      ],\n",
    "                      [0.25      , 0.19661193],\n",
    "                      [0.19661193, 0.04517666]]))\\\n",
    "            .all(), \"uncorrect sigmoid function behaviour\"\n",
    "\n",
    "    #---------------------------------------------------------------------------\n",
    "    assert (np.round(compute_activation_derivative\\\n",
    "                     (np.array([[-0.76159416,  0.        ],\n",
    "                                [ 0.        ,  0.76159416],\n",
    "                                [ 0.76159416,  0.99505475]]),\n",
    "                                        'tanh'), decimals= 8) ==\\\n",
    "            np.array([[0.41997434, 1.        ],\n",
    "                      [1.        , 0.41997434],\n",
    "                      [0.41997434, 0.00986604]]))\\\n",
    "            .all(), \"uncorrect tanh function behaviour\"\n",
    "\n",
    "    #---------------------------------------------------------------------------\n",
    "    assert (np.round(compute_activation_derivative\\\n",
    "                     (np.array([[0.09003057, 0.04201007],\n",
    "                                [0.24472847, 0.1141952 ],\n",
    "                                [0.66524096, 0.84379473]]),\n",
    "                                        'softmax'), decimals= 8) ==\\\n",
    "            np.array([[0.08192507, 0.04024522],\n",
    "                      [0.18483645, 0.10115466],\n",
    "                      [0.22269543, 0.13180518]]))\\\n",
    "            .all(), \"uncorrect softmax function behaviour\"\n",
    "\n",
    "    #---------------------------------------------------------------------------\n",
    "    test=TestCase()\n",
    "    with test.assertRaises(ValueError) as context:\n",
    "        compute_activation_derivative(0,'typo_error')\n",
    "    assert 'Unknown activation type' in str(context.exception),\\\n",
    "        \"no or wrong Exception raised when inputing an unknown activation_type\\\n",
    "         while calling compute_activation_derivative\""
   ]
  },
  {
   "cell_type": "markdown",
   "metadata": {},
   "source": [
    "## predict method tests without hidden_layers"
   ]
  },
  {
   "cell_type": "code",
   "execution_count": 11,
   "metadata": {
    "ExecuteTime": {
     "end_time": "2021-01-29T14:31:03.267805Z",
     "start_time": "2021-01-29T14:31:03.225105Z"
    }
   },
   "outputs": [],
   "source": [
    "    #---------------------------------------------------------------------------\n",
    "    ## tests for method predict - normal mode (without intermediate states) ####\n",
    "    #---------------------------------------------------------------------------\n",
    "\n",
    "    my_nn=handmade_nn(5)# Empty neural network : just a pass-through for 5-values inputs\n",
    "\n",
    "    assert my_nn.predict([2,3,2,3,4]).shape == (1,5),\\\n",
    "        \"list not supported as an input for predict\"\n",
    "    #---------------------------------------------------------------------------\n",
    "\n",
    "    assert my_nn.predict([[2,3,2,3,4],[-2,-1,1,3,4]]).shape == (2,5),\\\n",
    "        \"list of list not supported as an input for predict\"\n",
    "\n",
    "    #---------------------------------------------------------------------------\n",
    "    test=TestCase()\n",
    "    with test.assertRaises(ValueError) as context:\n",
    "        my_nn.predict(np.array([[[1,1],[1,2],[1,3],[1,4],[1,5]],\n",
    "                                    [[2,1],[2,2],[2,3],[3,4],[3,5]]]))\n",
    "    assert 'X vector dimension too high' in str(context.exception),\\\n",
    "        \"no or wrong Exception raised when inputing a 3D-array in predict method\"\n",
    "\n",
    "    #---------------------------------------------------------------------------\n",
    "    test=TestCase()\n",
    "    with test.assertRaises(ValueError) as context:\n",
    "        my_nn.predict(np.array([[1,1],[1,2],[1,3],[1,4],[1,5]]))\n",
    "    assert 'Unconsistent number of features' in str(context.exception),\\\n",
    "        \"no or wrong Exception raised when inputing a X\\\n",
    "         with unconsistant size vs. network input_dim in predict method\"\n",
    "\n",
    "    #---------------------------------------------------------------------------\n",
    "    my_nn=handmade_nn(5)\n",
    "    my_nn.add_dense_layer(10, 'linear')\n",
    "    my_nn.weights[0] = np.vstack((np.identity(5),np.zeros((5,5))))\n",
    "    assert my_nn.predict(np.array([-2,-1,2,3,4])).shape == (1,10),\\\n",
    "        \"1-D array not supported as an input for predict method\"\n",
    "\n",
    "    #---------------------------------------------------------------------------\n",
    "    my_nn=handmade_nn(5)\n",
    "    my_nn.add_dense_layer(10, 'linear')\n",
    "    my_nn.weights[0] = np.vstack((np.identity(5),np.zeros((5,5))))\n",
    "    assert my_nn.predict(np.array([[-2,-1,2,3,4],\n",
    "                                         [-12,-11,12,13,14]])).shape == (2,10),\\\n",
    "        \"the shape of the prediction for a 2*5 X input\\\n",
    "         by a network having 10neurons on last layer should be 2*10\"\n",
    "    \n",
    "    #--General-test-of-predict-method-with-all-activation-types-----------------\n",
    "    my_nn=handmade_nn(5)\n",
    "\n",
    "    my_nn.add_dense_layer(10, 'relu')\n",
    "    my_nn.weights[-1] = np.concatenate([np.identity(5), np.zeros((5,5))], axis=0)\n",
    "    my_nn.bias[-1] = np.array([0,0,0,0,1,1,1,0,0,0])\n",
    "\n",
    "    my_nn.add_dense_layer(10, 'linear')\n",
    "    my_nn.weights[-1] = np.flip(np.identity(10), 1)\n",
    "    my_nn.bias[-1] = np.array([1,1,1,1,1,1,0,0,0,0])\n",
    "\n",
    "    my_nn.add_dense_layer(10, 'tanh')\n",
    "    my_nn.weights[-1] = np.identity(10)\n",
    "    my_nn.bias[-1] = np.array([0,0,0,0,1,1,1,1,0,0])\n",
    "\n",
    "    my_nn.add_dense_layer(10, 'softmax')\n",
    "    my_nn.weights[-1] = np.flip(np.identity(10), 1)\n",
    "    my_nn.bias[-1] = np.array([0,0,0,0,0,0,1,1,1,1])\n",
    "\n",
    "    my_nn.add_dense_layer(1, 'sigmoid')\n",
    "    my_nn.weights[-1] = np.expand_dims(np.arange(1,11,1), axis=0)\n",
    "    my_nn.bias[-1] = np.array([0.5])\n",
    "\n",
    "\n",
    "    assert np.round(my_nn.predict([-2,-1,2,3,4])[0,0], decimals=8) == 0.99939824,\\\n",
    "        \"the general test of predict method on a network involving\\\n",
    "         all activation types and manually set bias and weights\\\n",
    "         did not return the correct value\" \n"
   ]
  },
  {
   "cell_type": "markdown",
   "metadata": {},
   "source": [
    "## compute_metric function tests - normal mode"
   ]
  },
  {
   "cell_type": "code",
   "execution_count": 13,
   "metadata": {
    "ExecuteTime": {
     "end_time": "2021-01-29T14:31:05.627843Z",
     "start_time": "2021-01-29T14:31:05.607055Z"
    }
   },
   "outputs": [],
   "source": [
    "    #---------------------------------------------------------------------------\n",
    "    ### tests for function compute_metric - normal mode (not derivative)########\n",
    "    #---------------------------------------------------------------------------\n",
    "\n",
    "    test=TestCase()\n",
    "    with test.assertRaises(ValueError) as context:\n",
    "        compute_metric(np.array([[[1,1],[1,2]],\n",
    "                                 [[2,1],[2,2]]]),\n",
    "                       np.array([[1,2],\n",
    "                                 [3,4]]),\n",
    "                       'mse')\n",
    "    assert 'y vector dimension too high' in str(context.exception),\\\n",
    "        \"no or wrong Exception raised when inputing a 3D-array as y\\\n",
    "         in compute_metric function\"\n",
    "\n",
    "    #---------------------------------------------------------------------------\n",
    "    test=TestCase()\n",
    "    with test.assertRaises(ValueError) as context:\n",
    "        compute_metric(np.array([[1,2],\n",
    "                                 [3,4]]),\n",
    "                       np.array([[[1,1],[1,2]],\n",
    "                                 [[2,1],[2,2]]]),\n",
    "                       'mse')\n",
    "    assert 'y_pred vector dimension too high' in str(context.exception),\\\n",
    "        \"no or wrong Exception raised when inputing a 3D-array as y_pred\\\n",
    "         in compute_metric function\"\n",
    "\n",
    "    #---------------------------------------------------------------------------\n",
    "    test=TestCase()\n",
    "    with test.assertRaises(ValueError) as context:\n",
    "        compute_metric(np.array([[1,2,3],\n",
    "                                 [4,5,6]]),\n",
    "                       np.array([[1,2],\n",
    "                                 [3,4]]),\n",
    "                       'mse')\n",
    "    assert 'unconsistent vectors dimensions' in str(context.exception),\\\n",
    "        \"no or wrong Exception raised when inputing unconsistent\\\n",
    "         y vs y_pred vectors shapes in compute_metric function\"\n",
    "\n",
    "    #---------------------------------------------------------------------------\n",
    "    assert compute_metric([1,0],[0.5,1],'mse') == 0.625,\\\n",
    "        \"uncorrect mse metric behaviour\"\n",
    "\n",
    "    #---------------------------------------------------------------------------\n",
    "    assert compute_metric([[1,0],[0,0]],[[0.5,1],[1,1]],'mse') == 0.8125,\\\n",
    "        \"uncorrect mse metric behaviour for multi-features regressions\\\n",
    "         (2D y and y_pred vectors)\"\n",
    "\n",
    "    #---------------------------------------------------------------------------\n",
    "    assert compute_metric([1,0],[0.5,1],'mae') == 0.75,\\\n",
    "        \"uncorrect mae metric behaviour\"\n",
    "\n",
    "    #---------------------------------------------------------------------------\n",
    "    assert np.round(compute_metric([[1,0,0],[0,1,0]],[[0.8,0.1,0.1],[0.2,0.6,0.2]],\n",
    "                                   'categorical_crossentropy'),\n",
    "                    decimals=8) == 0.36698459,\\\n",
    "        \"uncorrect categorical_crossentropy metric behaviour\"\n",
    "\n",
    "    #---------------------------------------------------------------------------\n",
    "    assert np.round(compute_metric([1,0],[0.9,0.1],'binary_crossentropy'),\n",
    "                    decimals=8) == 0.10536052,\\\n",
    "        \"uncorrect binary_crossentropy metric behaviour\"\n",
    "\n",
    "    #---------------------------------------------------------------------------\n",
    "    test=TestCase()\n",
    "    with test.assertRaises(ValueError) as context:\n",
    "        compute_metric([[1,0,1],[0,0,0]],\n",
    "                       [[0.5,0.9,0.1],\n",
    "                        [0.9,0.9,0.1]],\n",
    "                       'binary_crossentropy')\n",
    "    assert '1 max for binary_crossentropy' in str(context.exception),\\\n",
    "        \"no or wrong Exception raised when inputing 2D y/y_pred vectors\\\n",
    "         with binary_crossentropy selected in compute_metric function\"\n",
    "\n",
    "    #---------------------------------------------------------------------------\n",
    "    test=TestCase()\n",
    "    with test.assertRaises(ValueError) as context:\n",
    "        compute_metric([0],[0],'typo_error')\n",
    "    assert 'Unknown metric' in str(context.exception),\\\n",
    "        \"no or wrong Exception raised when inputing\\\n",
    "         unknown metric in compute_metric function\""
   ]
  },
  {
   "cell_type": "markdown",
   "metadata": {},
   "source": [
    "## compute_metric function tests - derivative mode"
   ]
  },
  {
   "cell_type": "code",
   "execution_count": 101,
   "metadata": {
    "ExecuteTime": {
     "end_time": "2021-01-20T20:42:49.112671Z",
     "start_time": "2021-01-20T20:42:49.096526Z"
    }
   },
   "outputs": [],
   "source": [
    "    #---------------------------------------------------------------------------\n",
    "    ### tests for function compute_metric - derivative mode ####################\n",
    "    #---------------------------------------------------------------------------\n",
    "\n",
    "    assert len(compute_metric([1,0],[0.5,1],'mse', loss_derivative = True)\\\n",
    "               .shape) == 2,\\\n",
    "        \"uncorrect output : compute_metric must return a 2D array in derivative mode\"\n",
    "\n",
    "    #---------------------------------------------------------------------------    \n",
    "    assert (compute_metric([1,0],[0.5,1],'mse', loss_derivative = True)\\\n",
    "                == np.array([[-0.5],[1]])).all(),\\\n",
    "        \"uncorrect mse metric behaviour in derivative mode\"\n",
    "\n",
    "    #---------------------------------------------------------------------------\n",
    "    assert (compute_metric([[1,0],[0,0]],[[0.5,1],[1,1]],'mse',\n",
    "                       loss_derivative = True)\\\n",
    "                == np.array([[-0.25, 0.5],[0.5, 0.5]])).all(),\\\n",
    "        \"uncorrect mse metric behaviour for multi-features regressions\\\n",
    "         (2D y and y_pred vectors) in derivative mode\"\n",
    "\n",
    "    #---------------------------------------------------------------------------\n",
    "    assert (compute_metric([1,0],[0.5,1],'mae', loss_derivative = True)\\\n",
    "                == np.array([[-0.5],[0.5]])).all(),\\\n",
    "        \"uncorrect mae metric behaviour in derivative mode\"\n",
    "\n",
    "    #---------------------------------------------------------------------------\n",
    "    assert (np.round(compute_metric([[1,0,0],[0,1,0]],[[0.8,0.1,0.1],[0.2,0.6,0.2]],\n",
    "                                   'categorical_crossentropy',\n",
    "                                   loss_derivative = True),\n",
    "                    decimals=8) == np.array([[-0.625, -0.        , -0.],\n",
    "                                             [-0.   , -0.83333333, -0.]])).all(),\\\n",
    "        \"uncorrect categorical_crossentropy metric behaviour in derivative mode\"\n",
    "\n",
    "    #---------------------------------------------------------------------------\n",
    "    assert (np.round(compute_metric([1,0],[0.9,0.1],\n",
    "                                   'binary_crossentropy',\n",
    "                                   loss_derivative = True),\n",
    "                    decimals=8) == np.array([[-0.55555556],\n",
    "                                             [ 0.55555556]])).all(),\\\n",
    "        \"uncorrect binary_crossentropy metric behaviour in derivative mode\""
   ]
  },
  {
   "cell_type": "markdown",
   "metadata": {},
   "source": [
    "## compute_backpropagation method tests"
   ]
  },
  {
   "cell_type": "code",
   "execution_count": 33,
   "metadata": {
    "ExecuteTime": {
     "end_time": "2021-01-21T15:41:55.471596Z",
     "start_time": "2021-01-21T15:41:55.291619Z"
    }
   },
   "outputs": [],
   "source": [
    "    #---------------------------------------------------------------------------\n",
    "    ### tests for backpropagation method (computing the gradient) ##############\n",
    "    #---------------------------------------------------------------------------\n",
    "\n",
    "    my_nn=handmade_nn(input_dim = 2)\n",
    "    my_nn.add_dense_layer(2, 'linear', weights_initializer='ones')\n",
    "    my_nn.add_dense_layer(1, 'linear', weights_initializer='ones')\n",
    "    my_nn.set_loss('mse')\n",
    "    \n",
    "    outputs = my_nn.compute_backpropagation(np.array([[1,2],[2,3],[3,4]]), np.array([4,5,6]))\n",
    "    n_outputs = len(np.array(outputs))\n",
    "    output_type = type(outputs)\n",
    "    assert output_type == tuple,\\\n",
    "        f\"backpropagation method must return a tuple. type is {output_type}\"\n",
    "    \n",
    "    #---------------------------------------------------------------------------\n",
    "    assert n_outputs == 2,\\\n",
    "        f\"backpropagation method must return 2 output. here returns {n_outputs}\"\n",
    "    \n",
    "    gradient_weights, gradient_bias = outputs\n",
    "    \n",
    "    #---------------------------------------------------------------------------\n",
    "    assert len(gradient_weights) == 2,\\\n",
    "        \"using backpropagation: the list of weights has not correct length\"\n",
    "    \n",
    "    #---------------------------------------------------------------------------\n",
    "    assert len(gradient_bias) == 2,\\\n",
    "        \"using backpropagation: the list of bias has not correct length\"\n",
    "    \n",
    "    #---------------------------------------------------------------------------\n",
    "    assert (gradient_weights[0] == np.array([[24., 34.],\n",
    "                                             [24., 34.]])).all(),\\\n",
    "        \"using backpropagation: uncorrect gradient with respect to weights\"\n",
    "    \n",
    "    #---------------------------------------------------------------------------\n",
    "    assert (gradient_bias[0] == np.array([10., 10.])).all(),\\\n",
    "        \"using backpropagation: uncorrect gradient with respect to bias\""
   ]
  },
  {
   "cell_type": "markdown",
   "metadata": {},
   "source": [
    "## fit method tests"
   ]
  },
  {
   "cell_type": "code",
   "execution_count": 9,
   "metadata": {
    "ExecuteTime": {
     "end_time": "2021-01-31T19:19:51.424418Z",
     "start_time": "2021-01-31T19:19:51.089588Z"
    }
   },
   "outputs": [
    {
     "name": "stdout",
     "output_type": "stream",
     "text": [
      "initial loss: 17.675491017786463\n",
      "final loss: 7.099748146989106e-30\n"
     ]
    }
   ],
   "source": [
    "    #---------------------------------------------------------------------------\n",
    "    ### tests for fit method\n",
    "    #---------------------------------------------------------------------------\n",
    "\n",
    "    my_nn=handmade_nn(input_dim = 2)\n",
    "    my_nn.add_dense_layer(1, 'linear',)\n",
    "    X= np.ones((10_000, 2))\n",
    "    y= np.zeros((10_000,1))\n",
    "    my_nn.fit(X,y, loss='mse',optimizer_type='sgd', batch_size=7, n_epochs=2)\n",
    "    \n",
    "    assert my_nn.score(X,y,'mse') < 0.5,\\\n",
    "        \"fit method has not converged with build-in sgd optimizer on a trivial regression\""
   ]
  },
  {
   "cell_type": "code",
   "execution_count": 38,
   "metadata": {
    "ExecuteTime": {
     "end_time": "2021-01-30T21:33:58.743974Z",
     "start_time": "2021-01-30T21:33:58.395367Z"
    }
   },
   "outputs": [
    {
     "data": {
      "image/png": "[encoded data removed]",
      "text/plain": [
       "<Figure size 432x288 with 1 Axes>"
      ]
     },
     "metadata": {
      "needs_background": "light"
     },
     "output_type": "display_data"
    }
   ],
   "source": [
    "my_nn.plot_loss_history()"
   ]
  },
  {
   "cell_type": "markdown",
   "metadata": {},
   "source": [
    "## optimizers tests"
   ]
  },
  {
   "cell_type": "code",
   "execution_count": 12,
   "metadata": {
    "ExecuteTime": {
     "end_time": "2021-01-29T17:49:44.614350Z",
     "start_time": "2021-01-29T17:49:43.998288Z"
    }
   },
   "outputs": [
    {
     "name": "stdout",
     "output_type": "stream",
     "text": [
      "initial loss: 1.235009060819703\n",
      "final loss: 9.321500930834222e-30\n"
     ]
    },
    {
     "data": {
      "text/plain": [
       "[1.235009060819703, 7.841921513571235e-10, 9.321500930834222e-30]"
      ]
     },
     "execution_count": 12,
     "metadata": {},
     "output_type": "execute_result"
    }
   ],
   "source": [
    "    #---------------------------------------------------------------------------\n",
    "    ### tests for optimizers\n",
    "    #---------------------------------------------------------------------------\n",
    "\n",
    "    my_nn=handmade_nn(input_dim = 2)\n",
    "    my_nn.add_dense_layer(1, 'linear',)\n",
    "    X= np.ones((10_000, 2))\n",
    "    y= np.zeros((10_000,1))\n",
    "    my_nn.fit(X,y, loss='mse',optimizer_type='adam', batch_size=7, n_epochs=2)\n",
    "    \n",
    "    assert my_nn.score(X,y,'mse') < 0.5,\\\n",
    "        \"not converged with adam optimizer on a trivial regression\"\n",
    "    \n",
    "    my_nn.loss_history"
   ]
  },
  {
   "cell_type": "markdown",
   "metadata": {},
   "source": [
    "# Trash section : small tests, to be deleted"
   ]
  },
  {
   "cell_type": "code",
   "execution_count": 227,
   "metadata": {
    "ExecuteTime": {
     "end_time": "2021-02-05T08:50:54.499663Z",
     "start_time": "2021-02-05T08:50:54.416124Z"
    }
   },
   "outputs": [
    {
     "data": {
      "text/html": [
       "<div>\n",
       "<style scoped>\n",
       "    .dataframe tbody tr th:only-of-type {\n",
       "        vertical-align: middle;\n",
       "    }\n",
       "\n",
       "    .dataframe tbody tr th {\n",
       "        vertical-align: top;\n",
       "    }\n",
       "\n",
       "    .dataframe thead th {\n",
       "        text-align: right;\n",
       "    }\n",
       "</style>\n",
       "<table border=\"1\" class=\"dataframe\">\n",
       "  <thead>\n",
       "    <tr style=\"text-align: right;\">\n",
       "      <th></th>\n",
       "      <th>x1</th>\n",
       "      <th>x2</th>\n",
       "      <th>y</th>\n",
       "    </tr>\n",
       "  </thead>\n",
       "  <tbody>\n",
       "    <tr>\n",
       "      <th>0</th>\n",
       "      <td>2</td>\n",
       "      <td>3</td>\n",
       "      <td>1</td>\n",
       "    </tr>\n",
       "    <tr>\n",
       "      <th>1</th>\n",
       "      <td>3</td>\n",
       "      <td>4</td>\n",
       "      <td>1</td>\n",
       "    </tr>\n",
       "    <tr>\n",
       "      <th>2</th>\n",
       "      <td>5</td>\n",
       "      <td>5</td>\n",
       "      <td>1</td>\n",
       "    </tr>\n",
       "    <tr>\n",
       "      <th>3</th>\n",
       "      <td>5</td>\n",
       "      <td>2</td>\n",
       "      <td>0</td>\n",
       "    </tr>\n",
       "    <tr>\n",
       "      <th>4</th>\n",
       "      <td>6</td>\n",
       "      <td>1</td>\n",
       "      <td>0</td>\n",
       "    </tr>\n",
       "    <tr>\n",
       "      <th>5</th>\n",
       "      <td>7</td>\n",
       "      <td>3</td>\n",
       "      <td>0</td>\n",
       "    </tr>\n",
       "  </tbody>\n",
       "</table>\n",
       "</div>"
      ],
      "text/plain": [
       "   x1  x2  y\n",
       "0   2   3  1\n",
       "1   3   4  1\n",
       "2   5   5  1\n",
       "3   5   2  0\n",
       "4   6   1  0\n",
       "5   7   3  0"
      ]
     },
     "execution_count": 227,
     "metadata": {},
     "output_type": "execute_result"
    }
   ],
   "source": [
    "df=pd.DataFrame({'x1':[2,3,5,5,6,7],'x2':[3,4,5,2,1,3],'y':[1,1,1,0,0,0]})\n",
    "df"
   ]
  },
  {
   "cell_type": "code",
   "execution_count": 210,
   "metadata": {
    "ExecuteTime": {
     "end_time": "2021-02-04T22:06:26.011847Z",
     "start_time": "2021-02-04T22:06:25.989315Z"
    }
   },
   "outputs": [
    {
     "data": {
      "text/plain": [
       "([82.97450021717695, -83.4360386787154],\n",
       " [55.81633347811797, -55.12402578581027])"
      ]
     },
     "execution_count": 210,
     "metadata": {},
     "output_type": "execute_result"
    }
   ],
   "source": [
    "aa=2/3\n",
    "bb=-1\n",
    "cc=0.5\n",
    "\n",
    "compute_line_points(aa,bb,cc)"
   ]
  },
  {
   "cell_type": "code",
   "execution_count": 232,
   "metadata": {
    "ExecuteTime": {
     "end_time": "2021-02-05T09:27:53.382771Z",
     "start_time": "2021-02-05T09:27:52.883252Z"
    }
   },
   "outputs": [
    {
     "data": {
      "text/plain": [
       "[(-1.0, 7.0)]"
      ]
     },
     "execution_count": 232,
     "metadata": {},
     "output_type": "execute_result"
    },
    {
     "data": {
      "image/png": "[encoded data removed]",
      "text/plain": [
       "<Figure size 432x288 with 1 Axes>"
      ]
     },
     "metadata": {
      "needs_background": "light"
     },
     "output_type": "display_data"
    }
   ],
   "source": [
    "xx=df[['x1','x2']]\n",
    "yy=df['y']\n",
    "ww=[-2,3]\n",
    "bb=-0.1\n",
    "xline, yline = compute_line_points(ww[0],ww[1],bb)\n",
    "xlineup, ylineup = compute_line_points(ww[0],ww[1],bb-1)\n",
    "xlinedown, ylinedown = compute_line_points(ww[0],ww[1],bb+1)\n",
    "\n",
    "g=sns.scatterplot(data=df,x='x1',y='x2',hue='y')\n",
    "sns.lineplot(x=xlinedown, y=ylinedown)\n",
    "sns.lineplot(x=xlineup, y=ylineup)\n",
    "sns.lineplot(x=xline, y=yline)\n",
    "g.set(xlim=(df.x1.min()-2,df.x1.max()+2))\n",
    "g.set(ylim=(df.x2.min()-2,df.x2.max()+2))"
   ]
  },
  {
   "cell_type": "code",
   "execution_count": 218,
   "metadata": {
    "ExecuteTime": {
     "end_time": "2021-02-04T22:08:05.794634Z",
     "start_time": "2021-02-04T22:08:05.786442Z"
    }
   },
   "outputs": [
    {
     "data": {
      "text/plain": [
       "array([ 1,  1,  1, -1, -1, -1])"
      ]
     },
     "execution_count": 218,
     "metadata": {},
     "output_type": "execute_result"
    }
   ],
   "source": [
    "np.array(yy)"
   ]
  },
  {
   "cell_type": "code",
   "execution_count": 219,
   "metadata": {
    "ExecuteTime": {
     "end_time": "2021-02-04T22:08:06.042350Z",
     "start_time": "2021-02-04T22:08:06.034124Z"
    }
   },
   "outputs": [
    {
     "data": {
      "text/plain": [
       "array([  8,  11,  15,  -9,  -8, -13])"
      ]
     },
     "execution_count": 219,
     "metadata": {},
     "output_type": "execute_result"
    }
   ],
   "source": [
    "np.dot(np.array(xx),[1,2])*np.array(yy)"
   ]
  },
  {
   "cell_type": "code",
   "execution_count": 220,
   "metadata": {
    "ExecuteTime": {
     "end_time": "2021-02-04T22:08:06.264292Z",
     "start_time": "2021-02-04T22:08:06.255704Z"
    }
   },
   "outputs": [
    {
     "data": {
      "text/plain": [
       "[-2, 3]"
      ]
     },
     "execution_count": 220,
     "metadata": {},
     "output_type": "execute_result"
    }
   ],
   "source": [
    "ww"
   ]
  },
  {
   "cell_type": "code",
   "execution_count": 221,
   "metadata": {
    "ExecuteTime": {
     "end_time": "2021-02-04T22:08:06.647797Z",
     "start_time": "2021-02-04T22:08:06.639329Z"
    }
   },
   "outputs": [
    {
     "data": {
      "text/plain": [
       "array([5.1, 6.1, 5.1, 3.9, 8.9, 4.9])"
      ]
     },
     "execution_count": 221,
     "metadata": {},
     "output_type": "execute_result"
    }
   ],
   "source": [
    "(np.dot(np.array(xx),np.array(ww))-bb)*np.array(yy)"
   ]
  },
  {
   "cell_type": "code",
   "execution_count": 222,
   "metadata": {
    "ExecuteTime": {
     "end_time": "2021-02-04T22:08:06.893442Z",
     "start_time": "2021-02-04T22:08:06.882508Z"
    }
   },
   "outputs": [
    {
     "data": {
      "text/plain": [
       "array([0., 0., 0., 0., 0., 0.])"
      ]
     },
     "execution_count": 222,
     "metadata": {},
     "output_type": "execute_result"
    }
   ],
   "source": [
    "np.maximum(0,(1-(np.dot(np.array(xx),np.array(ww))-bb)*np.array(yy)))"
   ]
  },
  {
   "cell_type": "code",
   "execution_count": 228,
   "metadata": {
    "ExecuteTime": {
     "end_time": "2021-02-05T08:51:00.599919Z",
     "start_time": "2021-02-05T08:51:00.565847Z"
    }
   },
   "outputs": [
    {
     "name": "stdout",
     "output_type": "stream",
     "text": [
      "x (6, 2)\n",
      "y (6,)\n",
      "w (2,)\n",
      "b -0.1\n"
     ]
    },
    {
     "data": {
      "text/plain": [
       "(0.13, array([0., 0., 0., 0., 0., 0.]))"
      ]
     },
     "execution_count": 228,
     "metadata": {},
     "output_type": "execute_result"
    }
   ],
   "source": [
    "compute_softmargin_hinge(xx,yy,np.array(list(ww)+[bb]),0.01)"
   ]
  },
  {
   "cell_type": "code",
   "execution_count": 241,
   "metadata": {
    "ExecuteTime": {
     "end_time": "2021-02-05T10:05:11.549905Z",
     "start_time": "2021-02-05T10:05:11.512741Z"
    }
   },
   "outputs": [
    {
     "name": "stdout",
     "output_type": "stream",
     "text": [
      "y :  (6,)\n",
      "dw2_dparams :  [-0.04  0.06  0.  ]\n",
      "[[False]\n",
      " [False]\n",
      " [False]\n",
      " [False]\n",
      " [False]\n",
      " [False]]\n"
     ]
    },
    {
     "ename": "ValueError",
     "evalue": "operands could not be broadcast together with shapes (2,) (3,) ",
     "output_type": "error",
     "traceback": [
      "\u001b[0;31m---------------------------------------------------------------------------\u001b[0m",
      "\u001b[0;31mValueError\u001b[0m                                Traceback (most recent call last)",
      "\u001b[0;32m<ipython-input-241-41e040fa2307>\u001b[0m in \u001b[0;36m<module>\u001b[0;34m\u001b[0m\n\u001b[0;32m----> 1\u001b[0;31m \u001b[0mcompute_softmargin_hinge_derivative\u001b[0m\u001b[0;34m(\u001b[0m\u001b[0mxx\u001b[0m\u001b[0;34m,\u001b[0m\u001b[0myy\u001b[0m\u001b[0;34m,\u001b[0m\u001b[0mnp\u001b[0m\u001b[0;34m.\u001b[0m\u001b[0marray\u001b[0m\u001b[0;34m(\u001b[0m\u001b[0mlist\u001b[0m\u001b[0;34m(\u001b[0m\u001b[0mww\u001b[0m\u001b[0;34m)\u001b[0m\u001b[0;34m+\u001b[0m\u001b[0;34m[\u001b[0m\u001b[0mbb\u001b[0m\u001b[0;34m]\u001b[0m\u001b[0;34m)\u001b[0m\u001b[0;34m,\u001b[0m\u001b[0;36m0.01\u001b[0m\u001b[0;34m)\u001b[0m\u001b[0;34m\u001b[0m\u001b[0;34m\u001b[0m\u001b[0m\n\u001b[0m",
      "\u001b[0;32m<ipython-input-240-ceb9e5961847>\u001b[0m in \u001b[0;36mcompute_softmargin_hinge_derivative\u001b[0;34m(x, y, params, lambdaa)\u001b[0m\n\u001b[1;32m     28\u001b[0m                   *(-np.expand_dims(y,axis=1)*x)).mean(axis=0)\n\u001b[1;32m     29\u001b[0m \u001b[0;34m\u001b[0m\u001b[0m\n\u001b[0;32m---> 30\u001b[0;31m     return dsoft_dparams + dw2_dparams, (np.expand_dims((1-y*(np.dot(x,w)-b)>0),axis=1)\\\n\u001b[0m\u001b[1;32m     31\u001b[0m                   *(-np.expand_dims(y,axis=1)*x))\n",
      "\u001b[0;31mValueError\u001b[0m: operands could not be broadcast together with shapes (2,) (3,) "
     ]
    }
   ],
   "source": [
    "compute_softmargin_hinge_derivative(xx,yy,np.array(list(ww)+[bb]),0.01)"
   ]
  },
  {
   "cell_type": "code",
   "execution_count": 121,
   "metadata": {
    "ExecuteTime": {
     "end_time": "2021-02-04T19:31:12.653379Z",
     "start_time": "2021-02-04T19:31:12.648105Z"
    }
   },
   "outputs": [],
   "source": [
    "apres_abattement = 0.66*apres_cotiz"
   ]
  },
  {
   "cell_type": "code",
   "execution_count": 122,
   "metadata": {
    "ExecuteTime": {
     "end_time": "2021-02-04T19:31:14.277280Z",
     "start_time": "2021-02-04T19:31:14.272415Z"
    }
   },
   "outputs": [],
   "source": [
    "chomage=2000\n",
    "chomage_reduit=chomage-0.7*apres_abattement"
   ]
  },
  {
   "cell_type": "code",
   "execution_count": 123,
   "metadata": {
    "ExecuteTime": {
     "end_time": "2021-02-04T19:31:14.489757Z",
     "start_time": "2021-02-04T19:31:14.485001Z"
    }
   },
   "outputs": [],
   "source": [
    "total=chomage_reduit+apres_cotiz"
   ]
  },
  {
   "cell_type": "code",
   "execution_count": 124,
   "metadata": {
    "ExecuteTime": {
     "end_time": "2021-02-04T19:31:14.803915Z",
     "start_time": "2021-02-04T19:31:14.792933Z"
    }
   },
   "outputs": [
    {
     "data": {
      "text/plain": [
       "0.4788200000000002"
      ]
     },
     "execution_count": 124,
     "metadata": {},
     "output_type": "execute_result"
    }
   ],
   "source": [
    "gain = (total-chomage)/recu_wagon\n",
    "gain"
   ]
  },
  {
   "cell_type": "code",
   "execution_count": null,
   "metadata": {},
   "outputs": [],
   "source": []
  },
  {
   "cell_type": "code",
   "execution_count": 133,
   "metadata": {
    "ExecuteTime": {
     "end_time": "2021-02-04T21:18:47.572097Z",
     "start_time": "2021-02-04T21:18:47.564138Z"
    }
   },
   "outputs": [
    {
     "data": {
      "text/plain": [
       "array([0, 2, 3])"
      ]
     },
     "execution_count": 133,
     "metadata": {},
     "output_type": "execute_result"
    }
   ],
   "source": [
    "(np.array([-1,2,1])>0)*[1,2,3]"
   ]
  },
  {
   "cell_type": "code",
   "execution_count": 138,
   "metadata": {
    "ExecuteTime": {
     "end_time": "2021-02-04T21:25:46.237983Z",
     "start_time": "2021-02-04T21:25:46.231416Z"
    }
   },
   "outputs": [],
   "source": [
    "tab=np.array([[1,2],[3,4],[5,6],[7,8],[9,10]])*np.array([[1],[2],[3],[4],[5]])"
   ]
  },
  {
   "cell_type": "code",
   "execution_count": 145,
   "metadata": {
    "ExecuteTime": {
     "end_time": "2021-02-04T21:30:46.525808Z",
     "start_time": "2021-02-04T21:30:46.515170Z"
    }
   },
   "outputs": [
    {
     "data": {
      "text/plain": [
       "array([12. , 13.6])"
      ]
     },
     "execution_count": 145,
     "metadata": {},
     "output_type": "execute_result"
    }
   ],
   "source": [
    "(tab*(np.expand_dims(np.array([1,2,3,2,3])>2,axis=1))).mean(axis=0)"
   ]
  },
  {
   "cell_type": "code",
   "execution_count": 229,
   "metadata": {
    "ExecuteTime": {
     "end_time": "2021-02-05T09:15:08.468488Z",
     "start_time": "2021-02-05T09:15:08.456517Z"
    }
   },
   "outputs": [],
   "source": [
    "from sklearn.svm import LinearSVC"
   ]
  },
  {
   "cell_type": "code",
   "execution_count": null,
   "metadata": {},
   "outputs": [],
   "source": [
    "LinearSVC()"
   ]
  }
 ],
 "metadata": {
  "celltoolbar": "Format de la Cellule Texte Brut",
  "kernelspec": {
   "display_name": "Python 3",
   "language": "python",
   "name": "python3"
  },
  "language_info": {
   "codemirror_mode": {
    "name": "ipython",
    "version": 3
   },
   "file_extension": ".py",
   "mimetype": "text/x-python",
   "name": "python",
   "nbconvert_exporter": "python",
   "pygments_lexer": "ipython3",
   "version": "3.7.7"
  },
  "toc": {
   "base_numbering": 1,
   "nav_menu": {},
   "number_sections": true,
   "sideBar": true,
   "skip_h1_title": false,
   "title_cell": "Table of Contents",
   "title_sidebar": "Contents",
   "toc_cell": false,
   "toc_position": {
    "height": "calc(100% - 180px)",
    "left": "10px",
    "top": "150px",
    "width": "174.075px"
   },
   "toc_section_display": true,
   "toc_window_display": true
  }
 },
 "nbformat": 4,
 "nbformat_minor": 4
}
